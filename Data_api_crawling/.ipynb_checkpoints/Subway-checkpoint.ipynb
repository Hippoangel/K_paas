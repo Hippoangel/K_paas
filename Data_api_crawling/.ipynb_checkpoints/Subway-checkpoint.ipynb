{
 "cells": [
  {
   "cell_type": "code",
   "execution_count": 2,
   "id": "554c1f64",
   "metadata": {},
   "outputs": [],
   "source": [
    "from urllib.request import urlopen  \n",
    "from bs4 import BeautifulSoup \n",
    "import schedule\n",
    "import time"
   ]
  },
  {
   "cell_type": "code",
   "execution_count": 3,
   "id": "56dffaab",
   "metadata": {},
   "outputs": [],
   "source": [
    "service_key1='727870495979756e31313774496d664e'\n",
    "url_key1='/xml/tbTraficEntrcLft/1/1000'"
   ]
  },
  {
   "cell_type": "code",
   "execution_count": 4,
   "id": "fbc5ffd2",
   "metadata": {},
   "outputs": [],
   "source": [
    "def job(service_key, url_key):\n",
    "    url='http://openapi.seoul.go.kr:8088/'+service_key+url_key\n",
    "    result=urlopen(url)\n",
    "    house=BeautifulSoup(result,'html.parser')\n",
    "    print(house.find_all('node_wkt'))"
   ]
  },
  {
   "cell_type": "code",
   "execution_count": 5,
   "id": "d71f2542",
   "metadata": {},
   "outputs": [
    {
     "data": {
      "text/plain": [
       "<function __main__.job(service_key, url_key)>"
      ]
     },
     "execution_count": 5,
     "metadata": {},
     "output_type": "execute_result"
    }
   ],
   "source": [
    "job"
   ]
  },
  {
   "cell_type": "code",
   "execution_count": 6,
   "id": "f8551502",
   "metadata": {},
   "outputs": [
    {
     "data": {
      "text/plain": [
       "Every 10 seconds do <lambda>() (last run: [never], next run: 2024-06-30 19:41:57)"
      ]
     },
     "execution_count": 6,
     "metadata": {},
     "output_type": "execute_result"
    }
   ],
   "source": [
    "schedule.every(10).seconds.do(lambda: job(service_key1,url_key1))\n"
   ]
  },
  {
   "cell_type": "code",
   "execution_count": 7,
   "id": "2f5d0308",
   "metadata": {},
   "outputs": [
    {
     "name": "stdout",
     "output_type": "stream",
     "text": [
      "[<node_wkt>POINT(127.01587272865775 37.57169713324989)</node_wkt>, <node_wkt>POINT(127.01520097725069 37.5727631714696)</node_wkt>, <node_wkt>POINT(126.99215227845464 37.57106843929747)</node_wkt>, <node_wkt>POINT(126.99186553544038 37.5705742122576)</node_wkt>, <node_wkt>POINT(127.01550585346979 37.573234568417995)</node_wkt>, <node_wkt>POINT(127.00008065138539 37.57103575444844)</node_wkt>, <node_wkt>POINT(127.01619593666405 37.57330084304634)</node_wkt>, <node_wkt>POINT(126.99104038125857 37.572655707708435)</node_wkt>, <node_wkt>POINT(127.01546995294608 37.579924238231975)</node_wkt>, <node_wkt>POINT(127.00062457346921 37.57083444225304)</node_wkt>, <node_wkt>POINT(127.01602335654462 37.57300793512578)</node_wkt>, <node_wkt>POINT(126.99185052385326 37.572669886627445)</node_wkt>, <node_wkt>POINT(126.9910817909188 37.572526275551105)</node_wkt>, <node_wkt>POINT(126.98432527401249 37.57005319781874)</node_wkt>, <node_wkt>POINT(127.01219046837087 37.57213417569109)</node_wkt>, <node_wkt>POINT(126.98885283301232 37.57245082068118)</node_wkt>, <node_wkt>POINT(127.01587652552925 37.56544815210417)</node_wkt>, <node_wkt>POINT(126.97279432094167 37.5550080901334)</node_wkt>, <node_wkt>POINT(126.97369434473515 37.55421646121922)</node_wkt>, <node_wkt>POINT(127.00412931028019 37.56483815939277)</node_wkt>, <node_wkt>POINT(126.98592292236093 37.56079985130835)</node_wkt>, <node_wkt>POINT(126.98583950872523 37.56103327158506)</node_wkt>, <node_wkt>POINT(127.0643303135185 37.561511880458575)</node_wkt>, <node_wkt>POINT(127.07137678955013 37.54087317738907)</node_wkt>, <node_wkt>POINT(127.0238411466907 37.57549768720393)</node_wkt>, <node_wkt>POINT(127.05303295998266 37.5666277839359)</node_wkt>, <node_wkt>POINT(127.06441778107049 37.64553662684671)</node_wkt>, <node_wkt>POINT(127.06495587823831 37.61479288225255)</node_wkt>, <node_wkt>POINT(127.05871905058927 37.63171331141819)</node_wkt>, <node_wkt>POINT(127.05849677148956 37.634480222596935)</node_wkt>, <node_wkt>POINT(127.05552563766364 37.67797088971149)</node_wkt>, <node_wkt>POINT(127.05520102194966 37.67898026438009)</node_wkt>, <node_wkt>POINT(127.06275633467037 37.656289440954396)</node_wkt>, <node_wkt>POINT(127.06282271528931 37.65609169935713)</node_wkt>, <node_wkt>POINT(127.05554366087564 37.67897323805541)</node_wkt>, <node_wkt>POINT(127.05184568575471 37.64333089086606)</node_wkt>, <node_wkt>POINT(127.0590201731977 37.634063454381206)</node_wkt>, <node_wkt>POINT(127.05518588266852 37.67797791463413)</node_wkt>, <node_wkt>POINT(126.90231487031684 37.57741803156539)</node_wkt>, <node_wkt>POINT(126.90033262948593 37.57547519218645)</node_wkt>, <node_wkt>POINT(126.94230109861657 37.54784118843646)</node_wkt>, <node_wkt>POINT(126.90335518172229 37.5627018526103)</node_wkt>, <node_wkt>POINT(126.92268955643571 37.54765868265542)</node_wkt>, <node_wkt>POINT(126.92269413816959 37.54786083970971)</node_wkt>, <node_wkt>POINT(126.91430336776767 37.54951918342327)</node_wkt>, <node_wkt>POINT(126.8468185360649 37.53189005544526)</node_wkt>, <node_wkt>POINT(126.88596573303785 37.48490666845506)</node_wkt>, <node_wkt>POINT(126.88605364125672 37.484764429830655)</node_wkt>, <node_wkt>POINT(126.88866248690282 37.4874858425667)</node_wkt>, <node_wkt>POINT(126.82345338276 37.4924826114421)</node_wkt>, <node_wkt>POINT(126.88932471720747 37.4660011104641)</node_wkt>, <node_wkt>POINT(126.8960828741505 37.52451406837861)</node_wkt>, <node_wkt>POINT(126.98263119503251 37.48522672159108)</node_wkt>, <node_wkt>POINT(127.02748750839716 37.49883559708308)</node_wkt>, <node_wkt>POINT(127.08493968575138 37.48365867102188)</node_wkt>, <node_wkt>POINT(127.08508924242753 37.48385309111214)</node_wkt>, <node_wkt>POINT(127.08349207345061 37.48401662304801)</node_wkt>, <node_wkt>POINT(127.0834120964024 37.484408023478444)</node_wkt>, <node_wkt>POINT(127.0558155601628 37.49130946480469)</node_wkt>, <node_wkt>POINT(127.05485022249802 37.49090255347246)</node_wkt>, <node_wkt>POINT(127.05501648356581 37.490463072855675)</node_wkt>, <node_wkt>POINT(127.05272562200159 37.49608939281134)</node_wkt>, <node_wkt>POINT(127.06424671613148 37.4946390374586)</node_wkt>, <node_wkt>POINT(127.0617243678387 37.494037919508386)</node_wkt>, <node_wkt>POINT(127.0725864427452 37.4911063992297)</node_wkt>, <node_wkt>POINT(127.07244317202905 37.49145434805537)</node_wkt>, <node_wkt>POINT(127.07919737008648 37.49400010041536)</node_wkt>, <node_wkt>POINT(127.10106225754004 37.487533628769036)</node_wkt>, <node_wkt>POINT(127.10080346437243 37.487300416785914)</node_wkt>, <node_wkt>POINT(127.06264635890945 37.49403743419684)</node_wkt>, <node_wkt>POINT(127.0796438004718 37.493808133618906)</node_wkt>, <node_wkt>POINT(127.05256889247224 37.49633376609361)</node_wkt>, <node_wkt>POINT(127.07981281188945 37.49338463642731)</node_wkt>, <node_wkt>POINT(127.06526375831818 37.494935992423684)</node_wkt>, <node_wkt>POINT(127.07996535431397 37.49367975719071)</node_wkt>, <node_wkt>POINT(127.15220891949295 37.49470309241651)</node_wkt>, <node_wkt>POINT(127.13503399427564 37.49819246830591)</node_wkt>, <node_wkt>POINT(127.1532273698744 37.49551879010833)</node_wkt>, <node_wkt>POINT(127.11326448370943 37.517709119670556)</node_wkt>, <node_wkt>POINT(127.13120675007835 37.516040328917775)</node_wkt>, <node_wkt>POINT(127.12050307295738 37.53106649864566)</node_wkt>, <node_wkt>POINT(127.12652310857835 37.4714482540519)</node_wkt>, <node_wkt>POINT(127.11271174664988 37.51793850317135)</node_wkt>]\n"
     ]
    },
    {
     "ename": "KeyboardInterrupt",
     "evalue": "",
     "output_type": "error",
     "traceback": [
      "\u001b[0;31m---------------------------------------------------------------------------\u001b[0m",
      "\u001b[0;31mKeyboardInterrupt\u001b[0m                         Traceback (most recent call last)",
      "\u001b[0;32m/var/folders/qg/dbzl3ktd2v70yf9bdx2s2q200000gn/T/ipykernel_6781/938715713.py\u001b[0m in \u001b[0;36m<module>\u001b[0;34m\u001b[0m\n\u001b[1;32m      1\u001b[0m \u001b[0;32mwhile\u001b[0m \u001b[0;32mTrue\u001b[0m\u001b[0;34m:\u001b[0m\u001b[0;34m\u001b[0m\u001b[0;34m\u001b[0m\u001b[0m\n\u001b[1;32m      2\u001b[0m     \u001b[0mschedule\u001b[0m\u001b[0;34m.\u001b[0m\u001b[0mrun_pending\u001b[0m\u001b[0;34m(\u001b[0m\u001b[0;34m)\u001b[0m\u001b[0;34m\u001b[0m\u001b[0;34m\u001b[0m\u001b[0m\n\u001b[0;32m----> 3\u001b[0;31m     \u001b[0mtime\u001b[0m\u001b[0;34m.\u001b[0m\u001b[0msleep\u001b[0m\u001b[0;34m(\u001b[0m\u001b[0;36m10\u001b[0m\u001b[0;34m)\u001b[0m\u001b[0;34m\u001b[0m\u001b[0;34m\u001b[0m\u001b[0m\n\u001b[0m",
      "\u001b[0;31mKeyboardInterrupt\u001b[0m: "
     ]
    }
   ],
   "source": [
    "while True:\n",
    "    schedule.run_pending()\n",
    "    time.sleep(10)"
   ]
  },
  {
   "cell_type": "code",
   "execution_count": null,
   "id": "5606a5ae",
   "metadata": {},
   "outputs": [],
   "source": []
  }
 ],
 "metadata": {
  "kernelspec": {
   "display_name": "Python 3 (ipykernel)",
   "language": "python",
   "name": "python3"
  },
  "language_info": {
   "codemirror_mode": {
    "name": "ipython",
    "version": 3
   },
   "file_extension": ".py",
   "mimetype": "text/x-python",
   "name": "python",
   "nbconvert_exporter": "python",
   "pygments_lexer": "ipython3",
   "version": "3.9.7"
  }
 },
 "nbformat": 4,
 "nbformat_minor": 5
}
