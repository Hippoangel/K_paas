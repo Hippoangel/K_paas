{
 "cells": [
  {
   "cell_type": "code",
   "execution_count": 19,
   "id": "554c1f64",
   "metadata": {},
   "outputs": [],
   "source": [
    "from urllib.request import urlopen  \n",
    "from bs4 import BeautifulSoup \n",
    "import schedule\n",
    "import time"
   ]
  },
  {
   "cell_type": "code",
   "execution_count": 20,
   "id": "56dffaab",
   "metadata": {},
   "outputs": [],
   "source": [
    "service_key1='727870495979756e31313774496d664e'\n",
    "url_key1='/xml/tbTraficEntrcLft/1/1000'"
   ]
  },
  {
   "cell_type": "code",
   "execution_count": 21,
   "id": "fbc5ffd2",
   "metadata": {},
   "outputs": [],
   "source": [
    "def job(service_key, url_key):\n",
    "    url='http://openapi.seoul.go.kr:8088/'+service_key+url_key\n",
    "    result=urlopen(url)\n",
    "    house=BeautifulSoup(result,'html.parser')\n",
    "    return house.find_all('node_wkt')  "
   ]
  },
  {
   "cell_type": "code",
   "execution_count": 22,
   "id": "d71f2542",
   "metadata": {},
   "outputs": [
    {
     "data": {
      "text/plain": [
       "<function __main__.job(service_key, url_key)>"
      ]
     },
     "execution_count": 22,
     "metadata": {},
     "output_type": "execute_result"
    }
   ],
   "source": [
    "job"
   ]
  },
  {
   "cell_type": "code",
   "execution_count": 23,
   "id": "f8551502",
   "metadata": {},
   "outputs": [
    {
     "data": {
      "text/plain": [
       "Every 10 seconds do <lambda>() (last run: [never], next run: 2024-06-28 16:02:08)"
      ]
     },
     "execution_count": 23,
     "metadata": {},
     "output_type": "execute_result"
    }
   ],
   "source": [
    "schedule.every(10).seconds.do(lambda: job(service_key1,url_key1))\n"
   ]
  },
  {
   "cell_type": "code",
   "execution_count": null,
   "id": "2f5d0308",
   "metadata": {},
   "outputs": [],
   "source": [
    "while True:\n",
    "    schedule.run_pending()\n",
    "    time.sleep(10)"
   ]
  },
  {
   "cell_type": "code",
   "execution_count": null,
   "id": "5606a5ae",
   "metadata": {},
   "outputs": [],
   "source": []
  }
 ],
 "metadata": {
  "kernelspec": {
   "display_name": "Python 3 (ipykernel)",
   "language": "python",
   "name": "python3"
  },
  "language_info": {
   "codemirror_mode": {
    "name": "ipython",
    "version": 3
   },
   "file_extension": ".py",
   "mimetype": "text/x-python",
   "name": "python",
   "nbconvert_exporter": "python",
   "pygments_lexer": "ipython3",
   "version": "3.9.7"
  }
 },
 "nbformat": 4,
 "nbformat_minor": 5
}
